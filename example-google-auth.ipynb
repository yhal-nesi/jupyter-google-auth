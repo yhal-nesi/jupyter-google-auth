{
 "cells": [
  {
   "cell_type": "code",
   "execution_count": null,
   "id": "f300fa1c",
   "metadata": {},
   "outputs": [],
   "source": [
    "from ipyauth import Auth, ParamsGoogle\n",
    "\n",
    "scope = \"openid profile https://www.googleapis.com/auth/cloud-platform\"\n",
    "#scope = \"openid profile\"\n",
    "\n",
    "p = ParamsGoogle(\n",
    "    client_id = \"731986156002-jab1nuu90fpd55956l4pagipjg7vs8su.apps.googleusercontent.com\", \n",
    "    scope = scope,\n",
    "    response_type = \"token\",\n",
    "    redirect_uri = \"http://127.0.0.1:8888/callback\"\n",
    "    )\n",
    "    \n",
    "a = Auth(params = p)\n",
    "a"
   ]
  },
  {
   "cell_type": "code",
   "execution_count": null,
   "id": "a44ea54c",
   "metadata": {},
   "outputs": [],
   "source": [
    "from google.cloud import secretmanager\n",
    "import google.oauth2.credentials\n",
    "credentials = google.oauth2.credentials.Credentials(a.access_token)\n",
    "\n",
    "sm = secretmanager.SecretManagerServiceClient(credentials = credentials )\n",
    "parent = f\"projects/1015307744487\"\n",
    "\n",
    "sm.list_secrets( parent = parent)\n",
    "\n",
    "secret = sm.access_secret_version(name=\"projects/1015307744487/secrets/terraform_token/versions/latest\")\n",
    "secret.payload.data"
   ]
  }
 ],
 "metadata": {
  "kernelspec": {
   "display_name": "Python 3 (ipykernel)",
   "language": "python",
   "name": "python3"
  },
  "language_info": {
   "codemirror_mode": {
    "name": "ipython",
    "version": 3
   },
   "file_extension": ".py",
   "mimetype": "text/x-python",
   "name": "python",
   "nbconvert_exporter": "python",
   "pygments_lexer": "ipython3",
   "version": "3.8.10"
  }
 },
 "nbformat": 4,
 "nbformat_minor": 5
}
